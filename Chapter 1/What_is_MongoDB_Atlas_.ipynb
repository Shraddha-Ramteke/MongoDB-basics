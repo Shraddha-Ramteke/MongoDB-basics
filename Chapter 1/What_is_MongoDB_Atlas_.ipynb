{
  "nbformat": 4,
  "nbformat_minor": 0,
  "metadata": {
    "colab": {
      "name": "What is MongoDB Atlas?.ipynb",
      "provenance": []
    },
    "kernelspec": {
      "name": "python3",
      "display_name": "Python 3"
    },
    "language_info": {
      "name": "python"
    }
  },
  "cells": [
    {
      "cell_type": "markdown",
      "source": [
        "# What is MongoDB Atlas?\n",
        "- Replica Set - a few connected machines that store the same data to ensure that if something happens to one of the machines the data will remain intact. Comes from the word replicate - to copy something.\n",
        "\n",
        "- Instance - a single machine locally or in the cloud, running a certain software, in our case it is the MongoDB database.\n",
        "\n",
        "- Cluster - group of servers that store your data."
      ],
      "metadata": {
        "id": "OmnVMNHROXEn"
      }
    }
  ]
}