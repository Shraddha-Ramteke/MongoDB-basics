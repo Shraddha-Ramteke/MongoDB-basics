{
  "nbformat": 4,
  "nbformat_minor": 0,
  "metadata": {
    "colab": {
      "name": "Problem:.ipynb",
      "provenance": []
    },
    "kernelspec": {
      "name": "python3",
      "display_name": "Python 3"
    },
    "language_info": {
      "name": "python"
    }
  },
  "cells": [
    {
      "cell_type": "markdown",
      "source": [
        "# Why is MongoDB a NoSQL database?\n",
        "- Because it does not utilize tables, rows and columns to organize data.\n",
        "- Because it uses a structured way to store and access data."
      ],
      "metadata": {
        "id": "owlKgykdMmrv"
      }
    }
  ]
}