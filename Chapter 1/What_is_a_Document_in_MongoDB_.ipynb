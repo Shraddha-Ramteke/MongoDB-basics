{
  "nbformat": 4,
  "nbformat_minor": 0,
  "metadata": {
    "colab": {
      "name": "What is a Document in MongoDB?.ipynb",
      "provenance": []
    },
    "kernelspec": {
      "name": "python3",
      "display_name": "Python 3"
    },
    "language_info": {
      "name": "python"
    }
  },
  "cells": [
    {
      "cell_type": "markdown",
      "source": [
        "# What is a Document in MongoDB?\n",
        "A document is a way to organize and store data as a set of field-value pairs.\n",
        "\n",
        "Just like this, where the field is a unique identifier for some data point, and the value is data related to a given identifier.\n",
        "\n",
        "- Document - a way to organize and store data as a set of field-value pairs.\n",
        "\n",
        "- Field - a unique identifier for a datapoint.\n",
        "\n",
        "- Value - data related to a given identifier.\n",
        "\n",
        "- Collection - an organized store of documents in MongoDB, usually with common fields between documents. There can be many collections per database and many documents per collection."
      ],
      "metadata": {
        "id": "D51uM0fyNa_7"
      }
    }
  ]
}