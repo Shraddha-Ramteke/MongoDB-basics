{
  "nbformat": 4,
  "nbformat_minor": 0,
  "metadata": {
    "colab": {
      "name": "Problem:.ipynb",
      "provenance": []
    },
    "kernelspec": {
      "name": "python3",
      "display_name": "Python 3"
    },
    "language_info": {
      "name": "python"
    }
  },
  "cells": [
    {
      "cell_type": "markdown",
      "source": [
        "# 1.  Why is MongoDB a NoSQL database?\n",
        "- Because it does not utilize tables, rows and columns to organize data.\n",
        "- Because it uses a structured way to store and access data.\n",
        "\n",
        "# 2. What is the MongoDB Database?\n",
        "- MongoDB database is an organized way to store and access data.\n",
        "- MongoDB is a NoSQL database that uses documents to store data in an organized way.\n",
        "\n",
        "# 3.  What is a Document?\n",
        "- Collections consist of many documents.\n",
        "\n",
        "# 4. In a MongoDB Document what is the role of fields and values?\n",
        "- A field is a unique identifier for a specific datapoint.\n",
        "- Each field has a value associated with it.\n",
        "\n",
        "# 5. How is MongoDB Atlas related to MongoDB the Database?\n",
        "- They are both MongoDB products.\n",
        "- Atlas has many tools and services within it that are built specifically for the MongoDB Database.\n",
        "\n"
      ],
      "metadata": {
        "id": "owlKgykdMmrv"
      }
    }
  ]
}