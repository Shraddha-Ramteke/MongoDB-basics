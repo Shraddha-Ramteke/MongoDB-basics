{
  "nbformat": 4,
  "nbformat_minor": 0,
  "metadata": {
    "colab": {
      "name": "What is the MongoDB Database?.ipynb",
      "provenance": []
    },
    "kernelspec": {
      "name": "python3",
      "display_name": "Python 3"
    },
    "language_info": {
      "name": "python"
    }
  },
  "cells": [
    {
      "cell_type": "markdown",
      "source": [
        "# What is the MongoDB Database?\n",
        "A database, meaning a structured way to store and access data.\n",
        "\n",
        "More specifically, it is a **NoSQL** database.\n",
        "\n",
        "NoSQL is a very generic term used to describe any data store that doesn't use legacy approach of related tables of data.\n",
        "\n",
        "This means that you're storing your data in an organized way, but not in rows and columns An example of NoSQL databases can be anything from a library card catalog, to a more sophisticated data store like MongoDB.\n",
        "\n",
        "Since the range of what NoSQL means is so wide, we must narrow our definition further.\n",
        "\n",
        "# MongoDB is a NoSQL document database.\n",
        "\n",
        "This means that data in MongoDB is stored as documents.\n",
        "\n",
        "These documents are in turn stored in what we call collections of documents.\n",
        "\n",
        "That's why MongoDB is categorized as a NoSQL document database.\n",
        "\n",
        "\n",
        "#**In conclusion, the MongoDB database is a NoSQL document database.**"
      ],
      "metadata": {
        "id": "YEwhDz3MLgun"
      }
    }
  ]
}