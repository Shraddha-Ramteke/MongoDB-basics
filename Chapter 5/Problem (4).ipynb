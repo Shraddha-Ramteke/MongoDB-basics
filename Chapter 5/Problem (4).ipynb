{
  "nbformat": 4,
  "nbformat_minor": 0,
  "metadata": {
    "colab": {
      "name": "Problem.ipynb",
      "provenance": []
    },
    "kernelspec": {
      "name": "python3",
      "display_name": "Python 3"
    },
    "language_info": {
      "name": "python"
    }
  },
  "cells": [
    {
      "cell_type": "markdown",
      "source": [
        "#  Aggregation Framework\n",
        "Problem:\n",
        "To complete this exercise connect to your Atlas cluster using the in-browser IDE space at the end of this chapter.\n",
        "\n",
        "What room types are present in the sample_airbnb.listingsAndReviews collection?\n",
        "\n",
        "# - Answer:\n",
        "Private room\n",
        "\n",
        "Shared room\n",
        "\n",
        "Entire home/apt\n",
        "\n",
        "# Quiz: Aggregation Framework\n",
        "Problem:\n",
        "What are the differences between using aggregate() and find()?\n",
        "\n",
        "# - Answer:\n",
        "aggregate() can do what find() can and more.\n",
        "\n",
        "aggregate() allows us to compute and reshape data in the cursor.\n",
        "\n",
        "# Quiz 1: sort() and limit()\n",
        "Problem:\n",
        "Which of the following commands will return the name and founding year for the 5 oldest companies in the sample_training.companies collection?\n",
        "\n",
        "# - Answer:\n",
        "db.companies.find({ \"founded_year\": { \"$ne\": null }}, { \"name\": 1, \"founded_year\": 1 } ).sort({ \"founded_year\": 1 }).limit(5)\n",
        "\n",
        "db.companies.find({ \"founded_year\": { \"$ne\": null }}, { \"name\": 1, \"founded_year\": 1 } ).limit(5).sort({ \"founded_year\": 1 })\n",
        "\n",
        "# Quiz 2: sort() and limit()\n",
        "Problem:\n",
        "To complete this exercise connect to your Atlas cluster using the in-browser IDE space at the end of this chapter.\n",
        "\n",
        "In what year was the youngest bike rider from the sample_training.trips collection born?\n",
        "\n",
        "# - Answer:\n",
        "1999\n",
        "\n",
        "# Quiz: Introduction to Indexes\n",
        "Problem:\n",
        "Jameela often queries the sample_training.routes collection by the src_airport field like this:\n",
        "\n",
        "db.routes.find({ \"src_airport\": \"MUC\" }).pretty() Which command will create an index that will support this query?\n",
        "\n",
        "# - Answer:\n",
        "db.routes.createIndex({ \"src_airport\": -1 })\n",
        "\n",
        "# Quiz: Introduction to Data Modeling\n",
        "Problem:\n",
        "What is data modeling?\n",
        "\n",
        "# - Answer:\n",
        "a way to organize fields in a document to support your application performance and querying capabilities\n",
        "\n",
        "# Quiz: Upsert\n",
        "Problem:\n",
        "How does the upsert option work?\n",
        "\n",
        "# - Answer:\n",
        "By default upsert is set to false.\n",
        "\n",
        "When upsert is set to true and the query predicate returns an empty cursor, the update operation creates a new document using the directive from the query predicate and the update predicate.\n",
        "\n",
        "When upsert is set to false and the query predicate returns an empty cursor then there will be no updated documents as a result of this operation."
      ],
      "metadata": {
        "id": "syvoL_o6iUkO"
      }
    }
  ]
}