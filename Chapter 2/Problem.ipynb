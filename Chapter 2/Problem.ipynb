{
  "nbformat": 4,
  "nbformat_minor": 0,
  "metadata": {
    "colab": {
      "name": "Problem.ipynb",
      "provenance": []
    },
    "kernelspec": {
      "name": "python3",
      "display_name": "Python 3"
    },
    "language_info": {
      "name": "python"
    }
  },
  "cells": [
    {
      "cell_type": "markdown",
      "source": [
        "# 1. Which of the following documents is correct JSON?\n",
        "- {\"name\" : \"Devi\", \"age\": 19, \"major\": \"Computer Science\"}\n",
        "\n",
        "# 2. Write BSON or JSON in the numbered blanks in the following sentences to make them true:\n",
        " MongoDB stores data in \n",
        "**BSON**\n",
        ", and you can then view it in \n",
        "**JSON**\n",
        ".\n",
        "\n",
        "**BSON**\n",
        " is faster to parse and lighter to store than \n",
        "**JSON**\n",
        ".\n",
        "\n",
        "**JSON**\n",
        " supports fewer data types than \n",
        "**BSON**\n",
        ".\n",
        "\n",
        "# 3. Which of the following commands will add a collection that is stored in animals.json to an Atlas cluster?\n",
        "- mongoimport\n",
        "\n",
        "# 4. In the sample_training.trips collection a person with birth year 1961 took a trip that started at \"Howard St & Centre St\". What was the end station name for that trip?\n",
        "Copy and paste your answer from the Atlas UI to the response text box. The station name should be in a single set double quotes, exactly as it is in the Data Explorer.\n",
        "- {\"start station name\" : \"Howard St & Centre St\", \"birth year\" : 1961}\n",
        "\n",
        "# 5. What does it do in the mongo shell?\n",
        "- Iterates through the cursor results\n",
        "\n",
        "# 6. Which of the following statements are true about the mongo shell?\n",
        "- It is a fully functioning JavaScript interpreter.\n",
        "- It allows you to interact with your MongoDB instance without using a Graphical User Interface.\n",
        "\n"
      ],
      "metadata": {
        "id": "CeSs3Q24Sy05"
      }
    }
  ]
}